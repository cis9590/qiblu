{
 "cells": [
  {
   "cell_type": "markdown",
   "metadata": {},
   "source": [
    "# Intel One APi"
   ]
  },
  {
   "cell_type": "code",
   "execution_count": 1,
   "metadata": {},
   "outputs": [
    {
     "name": "stdout",
     "output_type": "stream",
     "text": [
      "Overwriting lab/hello.cpp\n"
     ]
    }
   ],
   "source": [
    "%%writefile lab/hello.cpp\n",
    "//==============================================================\n",
    "// Copyright © 2021 Intel Corporation\n",
    "//\n",
    "// SPDX-License-Identifier: MIT\n",
    "// =============================================================\n",
    "#include <opencv2/core.hpp>\n",
    "#include <opencv2/imgcodecs.hpp>\n",
    "#include <opencv2/highgui.hpp>\n",
    "#include <iostream>\n",
    "#include <algorithm>\n",
    "#include <CL/sycl.hpp>\n",
    "\n",
    "using namespace cv;\n",
    "using namespace std;\n",
    "using namespace sycl;\n",
    "\n",
    "int main(){\n",
    "  string image_path = \"p2.jpg\";\n",
    "    \n",
    "  //# define queue which has default device associated for offload\n",
    "  queue q;\n",
    "  // for this exercise, we did not control what type of device we are offloading to,\n",
    "  // so this output will tell us what we were assigned\n",
    "  std::cout << \"Device: \" << q.get_device().get_info<info::device::name>() << std::endl;\n",
    "\n",
    "  Mat img = imread(image_path, IMREAD_COLOR);\n",
    "  if(img.empty()) {\n",
    "    std::cout << \"Could not read the image: \" << image_path << std::endl;\n",
    "    return 1;\n",
    "  }\n",
    "\n",
    "#if 0\n",
    "  // the SYCL kernel, after the endif, will do the same as this C++ code would do\n",
    "  for( int y = 0; y < img.rows; y++ ) {\n",
    "    for( int x = 0; x < img.cols; x++ ) {\n",
    "      for( int c = 0; c < img.channels(); c++ ) {\n",
    "        img.at<Vec3b>(y,x)[c] =\n",
    "          clamp( img.at<Vec3b>(y,x)[c] + 50, 0, 255 );\n",
    "      }\n",
    "    }\n",
    "  }\n",
    "#endif\n",
    "  {\n",
    "    CV_Assert(img.isContinuous());\n",
    "    CV_CheckTypeEQ(img.type(), CV_8UC3, \"\");\n",
    "    buffer<uint8_t, 3> frame_buffer(img.data, range<3>(img.rows, img.cols, 3));\n",
    "\n",
    "    q.submit([&](handler& cgh) {\n",
    "      auto pixels = frame_buffer.get_access<access::mode::read_write>(cgh);\n",
    "      cgh.parallel_for(range<3>(img.rows, img.cols, 3), [=](item<3> item) {\n",
    "        uint8_t p = pixels[item];\n",
    "        pixels[item] = sycl::clamp(p+50,0,255);\n",
    "      });\n",
    "    });\n",
    "    q.wait_and_throw();\n",
    "  }\n",
    "\n",
    "  imwrite(\"p2.png\", img);\n",
    "\n",
    "  return 0;\n",
    "}"
   ]
  },
  {
   "cell_type": "markdown",
   "metadata": {},
   "source": [
    "***\n",
    "\n",
    "### Build and Run\n",
    "Select the cell below and click Run ▶ to compile and execute the code above:"
   ]
  },
  {
   "cell_type": "code",
   "execution_count": 3,
   "metadata": {},
   "outputs": [
    {
     "name": "stdout",
     "output_type": "stream",
     "text": [
      "Job has been submitted to Intel(R) DevCloud and will execute soon.\n",
      "\n",
      " If you do not see result in 60 seconds, please restart the Jupyter kernel:\n",
      " Kernel -> 'Restart Kernel and Clear All Outputs...' and then try again\n",
      "\n",
      "Job ID                    Name             User            Time Use S Queue\n",
      "------------------------- ---------------- --------------- -------- - -----\n",
      "2063443.v-qsvr-1           ...ub-singleuser u179021         00:00:35 R jupyterhub     \n",
      "2063620.v-qsvr-1           run_hello.sh     u179021                0 Q batch          \n",
      "\n",
      "Waiting for Output ████████ Done⬇\n",
      "\n",
      "########################################################################\n",
      "#      Date:           Tue 29 Nov 2022 04:47:10 PM PST\n",
      "#    Job ID:           2063620.v-qsvr-1.aidevcloud\n",
      "#      User:           u179021\n",
      "# Resources:           cput=35:00:00,neednodes=1:gpu:ppn=2,nodes=1:gpu:ppn=2,walltime=06:00:00\n",
      "########################################################################\n",
      "\n",
      "## u179021 is compiling xpublog 1 -- Hello SYCL - hello.cpp\n",
      "dpcpp -L /opt/intel/openvino/deployment_tools/inference_engine/external/tbb/lib -ferror-limit=1 -Wno-pass-failed -I /opt/intel/openvino/opencv/include/ -L /opt/intel/openvino/opencv/lib -tbb -lopencv_core -lopencv_highgui -lopencv_imgproc -lopencv_imgcodecs -o bin/hello lab/hello.cpp\n",
      "## u179021 is running xpublog 1 -- Hello SYCL - hello.cpp\n",
      "rm -f EnlightenedNermalWithBook.png\n",
      "cp -p Assets/NermalWithBook540.jpg .\n",
      "LD_LIBRARY_PATH=/opt/intel/openvino/deployment_tools/inference_engine/external/tbb/lib:/opt/intel/openvino/opencv/lib: bin/hello\n",
      "\n",
      "########################################################################\n",
      "# End of output for job 2063620.v-qsvr-1.aidevcloud\n",
      "# Date: Tue 29 Nov 2022 04:47:10 PM PST\n",
      "########################################################################\n",
      "\n",
      "make: dpcpp: Command not found\n",
      "make: *** [Makefile:14: main] Error 127\n",
      "/bin/sh: 1: bin/hello: not found\n",
      "make: *** [Makefile:19: run] Error 127\n",
      "Job Completed in 8 seconds.\n"
     ]
    }
   ],
   "source": [
    "! chmod 755 q; chmod 755 run_hello.sh;if [ -x \"$(command -v qsub)\" ]; then ./q run_hello.sh; else ./run_hello.sh; fi"
   ]
  },
  {
   "cell_type": "markdown",
   "metadata": {},
   "source": [
    "_If the Jupyter cells are not responsive or if they error out when you compile the code samples, please restart the Jupyter Kernel: \n",
    "\"Kernel->Restart Kernel and Clear All Outputs\" and compile the code samples again_\n",
    "\n",
    "***\n",
    "\n",
    "Wait for the above to be DONE before proceeding... or else the output image will not be ready to view!"
   ]
  },
  {
   "cell_type": "markdown",
   "metadata": {},
   "source": [
    "## Review Image\n",
    "The orginal image looks like this:\n",
    "\n",
    "<img src=\"p2.jpg\">"
   ]
  },
  {
   "cell_type": "markdown",
   "metadata": {},
   "source": [
    "The output image looks like this (select this cell and click Run ▶ to refresh the image):\n",
    "\n",
    "<img src=\"p2.png\">"
   ]
  },
  {
   "cell_type": "markdown",
   "metadata": {},
   "source": [
    "***"
   ]
  },
  {
   "cell_type": "code",
   "execution_count": null,
   "metadata": {},
   "outputs": [],
   "source": []
  }
 ],
 "metadata": {
  "kernelspec": {
   "display_name": "Python 3 (Intel® oneAPI 2022.3)",
   "language": "python",
   "name": "c009-intel_distribution_of_python_3_oneapi-beta05-python"
  },
  "language_info": {
   "codemirror_mode": {
    "name": "ipython",
    "version": 3
   },
   "file_extension": ".py",
   "mimetype": "text/x-python",
   "name": "python",
   "nbconvert_exporter": "python",
   "pygments_lexer": "ipython3",
   "version": "3.9.13"
  },
  "toc": {
   "base_numbering": 1,
   "nav_menu": {},
   "number_sections": true,
   "sideBar": true,
   "skip_h1_title": false,
   "title_cell": "Table of Contents",
   "title_sidebar": "Contents",
   "toc_cell": false,
   "toc_position": {
    "height": "525.6px",
    "left": "28px",
    "top": "137.8px",
    "width": "301.109px"
   },
   "toc_section_display": true,
   "toc_window_display": true
  },
  "widgets": {
   "application/vnd.jupyter.widget-state+json": {
    "state": {},
    "version_major": 2,
    "version_minor": 0
   }
  }
 },
 "nbformat": 4,
 "nbformat_minor": 4
}
