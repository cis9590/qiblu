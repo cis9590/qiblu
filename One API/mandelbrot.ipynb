{
 "cells": [
  {
   "cell_type": "markdown",
   "metadata": {},
   "source": [
    "## Mandelbrot Demo\n",
    "#### Using DPC++, you can execute the same code across Intel CPU’s and GPUs"
   ]
  },
  {
   "cell_type": "markdown",
   "metadata": {},
   "source": [
    "Choose either a GPU or CPU to execute the mandelbrot code."
   ]
  },
  {
   "cell_type": "markdown",
   "metadata": {},
   "source": [
    "#### Device Selector\n",
    "Select the following cell and click __Run__ ▶ to choose the offload device:"
   ]
  },
  {
   "cell_type": "code",
   "execution_count": 4,
   "metadata": {},
   "outputs": [
    {
     "data": {
      "application/vnd.jupyter.widget-view+json": {
       "model_id": "6048a28aa76d4f9ca2e93aac1c57dd1c",
       "version_major": 2,
       "version_minor": 0
      },
      "text/plain": [
       "RadioButtons(description='Device:', options=('GPU Gen9', 'GPU Iris XE Max', 'CPU Xeon 6128', 'CPU Xeon 8153', …"
      ]
     },
     "metadata": {},
     "output_type": "display_data"
    }
   ],
   "source": [
    "%run accelerator.py"
   ]
  },
  {
   "cell_type": "markdown",
   "metadata": {},
   "source": [
    "### Build and Run\n",
    "Select the following cell and click __Run__ ▶ to write the file:"
   ]
  },
  {
   "cell_type": "code",
   "execution_count": 5,
   "metadata": {},
   "outputs": [
    {
     "name": "stdout",
     "output_type": "stream",
     "text": [
      "Overwriting src/main.cpp\n"
     ]
    }
   ],
   "source": [
    "%%writefile src/main.cpp \n",
    "\n",
    "//==============================================================\n",
    "// Copyright © 2019 Intel Corporation\n",
    "//\n",
    "// SPDX-License-Identifier: MIT\n",
    "// =============================================================\n",
    "\n",
    "#include <chrono>\n",
    "#include <iomanip>\n",
    "#include <iostream>\n",
    "#include <CL/sycl.hpp>\n",
    "\n",
    "#include \"dpc_common.hpp\"\n",
    "#include \"mandel.hpp\"\n",
    "\n",
    "using namespace std;\n",
    "using namespace cl::sycl;\n",
    "\n",
    "void ShowDevice(queue &q) {\n",
    "  // Output platform and device information.\n",
    "  auto device = q.get_device();\n",
    "  auto p_name = device.get_platform().get_info<info::platform::name>();\n",
    "  cout << std::setw(20) << \"Platform Name: \" << p_name << \"\\n\";\n",
    "  auto p_version = device.get_platform().get_info<info::platform::version>();\n",
    "  cout << std::setw(20) << \"Platform Version: \" << p_version << \"\\n\"; \n",
    "  auto d_name = device.get_info<info::device::name>();\n",
    "  cout << std::setw(20) << \"Device Name: \" << d_name << \"\\n\";\n",
    "  auto max_work_group = device.get_info<info::device::max_work_group_size>();\n",
    "  cout << std::setw(20) << \"Max Work Group: \" << max_work_group << \"\\n\";\n",
    "  auto max_compute_units = device.get_info<info::device::max_compute_units>();\n",
    "  cout << std::setw(20) << \"Max Compute Units: \" << max_compute_units << \"\\n\";\n",
    "}\n",
    "\n",
    "void Execute(queue &q) {\n",
    "  // Demonstrate the Mandelbrot calculation serial and parallel\n",
    "  MandelParallel m_par(row_size, col_size, max_iterations);\n",
    "  MandelSerial m_ser(row_size, col_size, max_iterations);\n",
    "\n",
    "  // Run the code once to trigger JIT\n",
    "  m_par.Evaluate(q);\n",
    "\n",
    "  // Run the parallel version\n",
    "  dpc_common::MyTimer t_par;\n",
    "  // time the parallel computation\n",
    "  for (int i = 0; i < repetitions; ++i) \n",
    "    m_par.Evaluate(q);\n",
    "  dpc_common::Duration parallel_time = t_par.elapsed();\n",
    "\n",
    "  // Print the results\n",
    "  m_par.Print();\n",
    "  m_par.writeImage();\n",
    "  // Run the serial version\n",
    "  dpc_common::MyTimer t_ser;\n",
    "  m_ser.Evaluate();\n",
    "  dpc_common::Duration serial_time = t_ser.elapsed();\n",
    "\n",
    "  // Report the results\n",
    "  cout << std::setw(20) << \"serial time: \" << serial_time.count() << \"s\\n\";\n",
    "  cout << std::setw(20) << \"parallel time: \" << (parallel_time / repetitions).count() << \"s\\n\";\n",
    "\n",
    "  // Validating\n",
    "  m_par.Verify(m_ser);\n",
    "}\n",
    "\n",
    "void Usage(string program_name) {\n",
    "  // Utility function to display argument usage\n",
    "  cout << \" Incorrect parameters\\n\";\n",
    "  cout << \" Usage: \";\n",
    "  cout << program_name << \"\\n\\n\";\n",
    "  exit(-1);\n",
    "}\n",
    "\n",
    "int main(int argc, char *argv[]) {\n",
    "  if (argc != 1) {\n",
    "    Usage(argv[0]);\n",
    "  }\n",
    "\n",
    "  try {\n",
    "\n",
    "    // Create a queue using default device\n",
    "    // Set the SYCL_DEVICE_FILTER, we are using PI_OPENCL environment variable\n",
    "      \n",
    "    // Default queue, set accelerator choice above.\n",
    "    queue q (default_selector{},dpc_common::exception_handler);\n",
    "    // Display the device info\n",
    "    ShowDevice(q);\n",
    "    // launch the body of the application\n",
    "    Execute(q);\n",
    "  } catch (...) {\n",
    "    // some other exception detected\n",
    "    cout << \"Failure\\n\";\n",
    "    terminate();\n",
    "  }\n",
    "  cout << \"Success\\n\";\n",
    "  return 0;\n",
    "}"
   ]
  },
  {
   "cell_type": "markdown",
   "metadata": {},
   "source": [
    "### Build and Run\n",
    "Select the following cell and click __Run__ ▶ to compile and execute the code above:"
   ]
  },
  {
   "cell_type": "code",
   "execution_count": 6,
   "metadata": {},
   "outputs": [
    {
     "name": "stdout",
     "output_type": "stream",
     "text": [
      "Job has been submitted to Intel(R) DevCloud and will execute soon.\n",
      "\n",
      " If you do not see result in 60 seconds, please restart the Jupyter kernel:\n",
      " Kernel -> 'Restart Kernel and Clear All Outputs...' and then try again\n",
      "\n",
      "Selected Device is: GPU Gen9\n",
      "Job ID                    Name             User            Time Use S Queue\n",
      "------------------------- ---------------- --------------- -------- - -----\n",
      "2056450.v-qsvr-1           ...ub-singleuser u179021         00:00:23 R jupyterhub     \n",
      "2056482.v-qsvr-1           build.sh         u179021                0 Q batch          \n",
      "\n",
      "Waiting for Output ██████████████████████████████████████████████████████ Done⬇\n",
      "\n",
      "########################################################################\n",
      "#      Date:           Fri 25 Nov 2022 02:03:39 PM PST\n",
      "#    Job ID:           2056482.v-qsvr-1.aidevcloud\n",
      "#      User:           u179021\n",
      "# Resources:           cput=35:00:00,neednodes=1:gen9:ppn=2,nodes=1:gen9:ppn=2,walltime=06:00:00\n",
      "########################################################################\n",
      "\n",
      "-- Default CMAKE_BUILD_TYPE not set using Release with Debug Info\n",
      "-- The C compiler identification is GNU 9.4.0\n",
      "-- The CXX compiler identification is unknown\n",
      "-- Check for working C compiler: /usr/bin/cc\n",
      "-- Check for working C compiler: /usr/bin/cc -- works\n",
      "-- Detecting C compiler ABI info\n",
      "-- Detecting C compiler ABI info - done\n",
      "-- Detecting C compile features\n",
      "-- Detecting C compile features - done\n",
      "-- Configuring incomplete, errors occurred!\n",
      "See also \"/home/u179021/mandelbrot/build/CMakeFiles/CMakeOutput.log\".\n",
      "See also \"/home/u179021/mandelbrot/build/CMakeFiles/CMakeError.log\".\n",
      "\n",
      "########################################################################\n",
      "# End of output for job 2056482.v-qsvr-1.aidevcloud\n",
      "# Date: Fri 25 Nov 2022 02:03:40 PM PST\n",
      "########################################################################\n",
      "\n",
      "CMake Error at CMakeLists.txt:12 (project):\n",
      "  The CMAKE_CXX_COMPILER:\n",
      "\n",
      "    dpcpp\n",
      "\n",
      "  is not a full path and was not found in the PATH.\n",
      "\n",
      "  Tell CMake where to find the compiler by setting either the environment\n",
      "  variable \"CXX\" or the CMake cache entry CMAKE_CXX_COMPILER to the full path\n",
      "  to the compiler, or to the compiler name if it is in the PATH.\n",
      "\n",
      "\n",
      "Job Completed in 54 seconds.\n"
     ]
    }
   ],
   "source": [
    "! ./q build.sh \"{device.value}\""
   ]
  },
  {
   "cell_type": "markdown",
   "metadata": {},
   "source": [
    "#### Execute the below cell to view the mandelbrot."
   ]
  },
  {
   "cell_type": "code",
   "execution_count": 9,
   "metadata": {},
   "outputs": [
    {
     "ename": "FileNotFoundError",
     "evalue": "[Errno 2] No such file or directory: 'build/1.png'",
     "output_type": "error",
     "traceback": [
      "\u001b[0;31m---------------------------------------------------------------------------\u001b[0m",
      "\u001b[0;31mFileNotFoundError\u001b[0m                         Traceback (most recent call last)",
      "Cell \u001b[0;32mIn [9], line 2\u001b[0m\n\u001b[1;32m      1\u001b[0m \u001b[38;5;28;01mfrom\u001b[39;00m \u001b[38;5;21;01mipywidgets\u001b[39;00m \u001b[38;5;28;01mimport\u001b[39;00m Image\n\u001b[0;32m----> 2\u001b[0m \u001b[43mImage\u001b[49m\u001b[38;5;241;43m.\u001b[39;49m\u001b[43mfrom_file\u001b[49m\u001b[43m(\u001b[49m\u001b[38;5;124;43m\"\u001b[39;49m\u001b[38;5;124;43mbuild/1.png\u001b[39;49m\u001b[38;5;124;43m\"\u001b[39;49m\u001b[43m)\u001b[49m\n",
      "File \u001b[0;32m/opt/intel/inteloneapi/intelpython/latest/lib/python3.9/site-packages/ipywidgets/widgets/widget_media.py:161\u001b[0m, in \u001b[0;36mImage.from_file\u001b[0;34m(cls, filename, **kwargs)\u001b[0m\n\u001b[1;32m    159\u001b[0m \u001b[38;5;129m@classmethod\u001b[39m\n\u001b[1;32m    160\u001b[0m \u001b[38;5;28;01mdef\u001b[39;00m \u001b[38;5;21mfrom_file\u001b[39m(\u001b[38;5;28mcls\u001b[39m, filename, \u001b[38;5;241m*\u001b[39m\u001b[38;5;241m*\u001b[39mkwargs):\n\u001b[0;32m--> 161\u001b[0m     \u001b[38;5;28;01mreturn\u001b[39;00m \u001b[38;5;28;43mcls\u001b[39;49m\u001b[38;5;241;43m.\u001b[39;49m\u001b[43m_from_file\u001b[49m\u001b[43m(\u001b[49m\u001b[38;5;124;43m'\u001b[39;49m\u001b[38;5;124;43mimage\u001b[39;49m\u001b[38;5;124;43m'\u001b[39;49m\u001b[43m,\u001b[49m\u001b[43m \u001b[49m\u001b[43mfilename\u001b[49m\u001b[43m,\u001b[49m\u001b[43m \u001b[49m\u001b[38;5;241;43m*\u001b[39;49m\u001b[38;5;241;43m*\u001b[39;49m\u001b[43mkwargs\u001b[49m\u001b[43m)\u001b[49m\n",
      "File \u001b[0;32m/opt/intel/inteloneapi/intelpython/latest/lib/python3.9/site-packages/ipywidgets/widgets/widget_media.py:43\u001b[0m, in \u001b[0;36m_Media._from_file\u001b[0;34m(cls, tag, filename, **kwargs)\u001b[0m\n\u001b[1;32m     28\u001b[0m \u001b[38;5;129m@classmethod\u001b[39m\n\u001b[1;32m     29\u001b[0m \u001b[38;5;28;01mdef\u001b[39;00m \u001b[38;5;21m_from_file\u001b[39m(\u001b[38;5;28mcls\u001b[39m, tag, filename, \u001b[38;5;241m*\u001b[39m\u001b[38;5;241m*\u001b[39mkwargs):\n\u001b[1;32m     30\u001b[0m     \u001b[38;5;124;03m\"\"\"\u001b[39;00m\n\u001b[1;32m     31\u001b[0m \u001b[38;5;124;03m    Create an :class:`Media` from a local file.\u001b[39;00m\n\u001b[1;32m     32\u001b[0m \n\u001b[0;32m   (...)\u001b[0m\n\u001b[1;32m     41\u001b[0m \u001b[38;5;124;03m    Returns an `Media` with the value set from the filename.\u001b[39;00m\n\u001b[1;32m     42\u001b[0m \u001b[38;5;124;03m    \"\"\"\u001b[39;00m\n\u001b[0;32m---> 43\u001b[0m     value \u001b[38;5;241m=\u001b[39m \u001b[38;5;28;43mcls\u001b[39;49m\u001b[38;5;241;43m.\u001b[39;49m\u001b[43m_load_file_value\u001b[49m\u001b[43m(\u001b[49m\u001b[43mfilename\u001b[49m\u001b[43m)\u001b[49m\n\u001b[1;32m     45\u001b[0m     \u001b[38;5;28;01mif\u001b[39;00m \u001b[38;5;124m'\u001b[39m\u001b[38;5;124mformat\u001b[39m\u001b[38;5;124m'\u001b[39m \u001b[38;5;129;01mnot\u001b[39;00m \u001b[38;5;129;01min\u001b[39;00m kwargs:\n\u001b[1;32m     46\u001b[0m         \u001b[38;5;28mformat\u001b[39m \u001b[38;5;241m=\u001b[39m \u001b[38;5;28mcls\u001b[39m\u001b[38;5;241m.\u001b[39m_guess_format(tag, filename)\n",
      "File \u001b[0;32m/opt/intel/inteloneapi/intelpython/latest/lib/python3.9/site-packages/ipywidgets/widgets/widget_media.py:94\u001b[0m, in \u001b[0;36m_Media._load_file_value\u001b[0;34m(cls, filename)\u001b[0m\n\u001b[1;32m     92\u001b[0m     \u001b[38;5;28;01mreturn\u001b[39;00m filename\u001b[38;5;241m.\u001b[39mread()\n\u001b[1;32m     93\u001b[0m \u001b[38;5;28;01melse\u001b[39;00m:\n\u001b[0;32m---> 94\u001b[0m     \u001b[38;5;28;01mwith\u001b[39;00m \u001b[38;5;28;43mopen\u001b[39;49m\u001b[43m(\u001b[49m\u001b[43mfilename\u001b[49m\u001b[43m,\u001b[49m\u001b[43m \u001b[49m\u001b[38;5;124;43m'\u001b[39;49m\u001b[38;5;124;43mrb\u001b[39;49m\u001b[38;5;124;43m'\u001b[39;49m\u001b[43m)\u001b[49m \u001b[38;5;28;01mas\u001b[39;00m f:\n\u001b[1;32m     95\u001b[0m         \u001b[38;5;28;01mreturn\u001b[39;00m f\u001b[38;5;241m.\u001b[39mread()\n",
      "\u001b[0;31mFileNotFoundError\u001b[0m: [Errno 2] No such file or directory: 'build/1.png'"
     ]
    }
   ],
   "source": [
    "from ipywidgets import Image\n",
    "Image.from_file(\"build/1.png\")"
   ]
  },
  {
   "cell_type": "markdown",
   "metadata": {},
   "source": [
    "- _Choose Another Device:_ [Device Selector](#Device-Selector)"
   ]
  },
  {
   "cell_type": "markdown",
   "metadata": {},
   "source": [
    "<html><body><span style=\"color:red\"><h2>Test Your Code on a Variety of In-market and Pre-release Development Systems</h1></span></body></html>\n",
    "\n",
    "1. [Get started with Intel DevCloud for oneAPI.](https://devcloud.intel.com/oneapi/get_started/)\n",
    "\n",
    "2. [See all nine self-paced training modules for Data Parallel C++ (DPC++) Essentials, OpenMP, and more.](https://devcloud.intel.com/oneapi/get_started/baseTrainingModules/)\n",
    "\n",
    "3. [Gain hands-on experience with 25 Jupyter Notebooks loaded with 100+ DPC++ code samples.](https://devcloud.intel.com/oneapi/get_started/baseToolkitSamples/)\n",
    "\n",
    "4.  [Want even more samples?  Execute the following cell and pull all the samples.](https://github.com/oneapi-src/oneAPI-samples.git)"
   ]
  },
  {
   "cell_type": "code",
   "execution_count": null,
   "metadata": {},
   "outputs": [],
   "source": [
    "!git clone https://github.com/oneapi-src/oneAPI-samples.git"
   ]
  },
  {
   "cell_type": "code",
   "execution_count": null,
   "metadata": {},
   "outputs": [],
   "source": []
  }
 ],
 "metadata": {
  "kernelspec": {
   "display_name": "Python 3 (Intel® oneAPI 2022.3)",
   "language": "python",
   "name": "c009-intel_distribution_of_python_3_oneapi-beta05-python"
  },
  "language_info": {
   "codemirror_mode": {
    "name": "ipython",
    "version": 3
   },
   "file_extension": ".py",
   "mimetype": "text/x-python",
   "name": "python",
   "nbconvert_exporter": "python",
   "pygments_lexer": "ipython3",
   "version": "3.9.13"
  },
  "toc": {
   "base_numbering": 1,
   "nav_menu": {},
   "number_sections": true,
   "sideBar": true,
   "skip_h1_title": false,
   "title_cell": "Table of Contents",
   "title_sidebar": "Contents",
   "toc_cell": false,
   "toc_position": {},
   "toc_section_display": true,
   "toc_window_display": false
  }
 },
 "nbformat": 4,
 "nbformat_minor": 4
}
