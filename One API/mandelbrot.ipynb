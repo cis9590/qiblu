{
 "cells": [
  {
   "cell_type": "markdown",
   "metadata": {},
   "source": [
    "## Qiblu\n",
    "#### Using DPC++, you can execute the same code across Intel CPU’s and GPUs"
   ]
  },
  {
   "cell_type": "markdown",
   "metadata": {},
   "source": [
    "Choose either a GPU or CPU to execute the code."
   ]
  },
  {
   "cell_type": "markdown",
   "metadata": {},
   "source": [
    "#### Device Selector\n",
    "Select the following cell and click __Run__ ▶ to choose the offload device:"
   ]
  },
  {
   "cell_type": "code",
   "execution_count": 29,
   "metadata": {},
   "outputs": [
    {
     "data": {
      "application/vnd.jupyter.widget-view+json": {
       "model_id": "03a80399b3ca42e3be7341024ac0133e",
       "version_major": 2,
       "version_minor": 0
      },
      "text/plain": [
       "RadioButtons(description='Device:', options=('GPU Gen9', 'GPU Iris XE Max', 'CPU Xeon 6128', 'CPU Xeon 8153', …"
      ]
     },
     "metadata": {},
     "output_type": "display_data"
    }
   ],
   "source": [
    "%run accelerator.py"
   ]
  },
  {
   "cell_type": "markdown",
   "metadata": {},
   "source": [
    "### Build and Run\n",
    "Select the following cell and click __Run__ ▶ to write the file:"
   ]
  },
  {
   "cell_type": "code",
   "execution_count": 30,
   "metadata": {},
   "outputs": [
    {
     "name": "stdout",
     "output_type": "stream",
     "text": [
      "Overwriting src/main.cpp\n"
     ]
    }
   ],
   "source": [
    "%%writefile src/main.cpp \n",
    "\n",
    "//==============================================================\n",
    "// Copyright © 2019 Intel Corporation\n",
    "//\n",
    "// SPDX-License-Identifier: MIT\n",
    "// =============================================================\n",
    "\n",
    "#include <chrono>\n",
    "#include <iomanip>\n",
    "#include <iostream>\n",
    "#include <CL/sycl.hpp>\n",
    "\n",
    "#include \"dpc_common.hpp\"\n",
    "#include \"mandel.hpp\"\n",
    "\n",
    "using namespace std;\n",
    "using namespace cl::sycl;\n",
    "\n",
    "void ShowDevice(queue &q) {\n",
    "  // Output platform and device information.\n",
    "  auto device = q.get_device();\n",
    "  auto p_name = device.get_platform().get_info<info::platform::name>();\n",
    "  cout << std::setw(20) << \"Platform Name: \" << p_name << \"\\n\";\n",
    "  auto p_version = device.get_platform().get_info<info::platform::version>();\n",
    "  cout << std::setw(20) << \"Platform Version: \" << p_version << \"\\n\"; \n",
    "  auto d_name = device.get_info<info::device::name>();\n",
    "  cout << std::setw(20) << \"Device Name: \" << d_name << \"\\n\";\n",
    "  auto max_work_group = device.get_info<info::device::max_work_group_size>();\n",
    "  cout << std::setw(20) << \"Max Work Group: \" << max_work_group << \"\\n\";\n",
    "  auto max_compute_units = device.get_info<info::device::max_compute_units>();\n",
    "  cout << std::setw(20) << \"Max Compute Units: \" << max_compute_units << \"\\n\";\n",
    "}\n",
    "\n",
    "void Execute(queue &q) {\n",
    "  // Demonstrate the Mandelbrot calculation serial and parallel\n",
    "  MandelParallel m_par(row_size, col_size, max_iterations);\n",
    "  MandelSerial m_ser(row_size, col_size, max_iterations);\n",
    "\n",
    "  // Run the code once to trigger JIT\n",
    "  m_par.Evaluate(q);\n",
    "\n",
    "  // Run the parallel version\n",
    "  dpc_common::MyTimer t_par;\n",
    "  // time the parallel computation\n",
    "  for (int i = 0; i < repetitions; ++i) \n",
    "    m_par.Evaluate(q);\n",
    "  dpc_common::Duration parallel_time = t_par.elapsed();\n",
    "\n",
    "  // Print the results\n",
    "  m_par.Print();\n",
    "  m_par.writeImage();\n",
    "  // Run the serial version\n",
    "  dpc_common::MyTimer t_ser;\n",
    "  m_ser.Evaluate();\n",
    "  dpc_common::Duration serial_time = t_ser.elapsed();\n",
    "\n",
    "  // Report the results\n",
    "  cout << std::setw(20) << \"serial time: \" << serial_time.count() << \"s\\n\";\n",
    "  cout << std::setw(20) << \"parallel time: \" << (parallel_time / repetitions).count() << \"s\\n\";\n",
    "\n",
    "  // Validating\n",
    "  m_par.Verify(m_ser);\n",
    "}\n",
    "\n",
    "void Usage(string program_name) {\n",
    "  // Utility function to display argument usage\n",
    "  cout << \" Incorrect parameters\\n\";\n",
    "  cout << \" Usage: \";\n",
    "  cout << program_name << \"\\n\\n\";\n",
    "  exit(-1);\n",
    "}\n",
    "\n",
    "int main(int argc, char *argv[]) {\n",
    "  if (argc != 1) {\n",
    "    Usage(argv[0]);\n",
    "  }\n",
    "\n",
    "  try {\n",
    "\n",
    "    // Create a queue using default device\n",
    "    // Set the SYCL_DEVICE_FILTER, we are using PI_OPENCL environment variable\n",
    "      \n",
    "    // Default queue, set accelerator choice above.\n",
    "    queue q (default_selector{},dpc_common::exception_handler);\n",
    "    // Display the device info\n",
    "    ShowDevice(q);\n",
    "    // launch the body of the application\n",
    "    Execute(q);\n",
    "  } catch (...) {\n",
    "    // some other exception detected\n",
    "    cout << \"Failure\\n\";\n",
    "    terminate();\n",
    "  }\n",
    "  cout << \"Success\\n\";\n",
    "  return 0;\n",
    "}"
   ]
  },
  {
   "cell_type": "markdown",
   "metadata": {},
   "source": [
    "### Build and Run\n",
    "Select the following cell and click __Run__ ▶ to compile and execute the code above:"
   ]
  },
  {
   "cell_type": "code",
   "execution_count": null,
   "metadata": {},
   "outputs": [
    {
     "name": "stdout",
     "output_type": "stream",
     "text": [
      "Job has been submitted to Intel(R) DevCloud and will execute soon.\n",
      "\n",
      " If you do not see result in 60 seconds, please restart the Jupyter kernel:\n",
      " Kernel -> 'Restart Kernel and Clear All Outputs...' and then try again\n",
      "\n",
      "Selected Device is: GPU Gen9\n",
      "Job ID                    Name             User            Time Use S Queue\n",
      "------------------------- ---------------- --------------- -------- - -----\n",
      "2063443.v-qsvr-1           ...ub-singleuser u179021         00:00:22 R jupyterhub     \n",
      "2063613.v-qsvr-1           build.sh         u179021                0 Q batch          \n",
      "\n",
      "Waiting for Output ███████████████████"
     ]
    }
   ],
   "source": [
    "! ./q build.sh \"{device.value}\""
   ]
  },
  {
   "cell_type": "markdown",
   "metadata": {},
   "source": [
    "#### Execute the below cell."
   ]
  },
  {
   "cell_type": "code",
   "execution_count": 33,
   "metadata": {},
   "outputs": [
    {
     "ename": "SyntaxError",
     "evalue": "(unicode error) 'unicodeescape' codec can't decode bytes in position 2-3: truncated \\UXXXXXXXX escape (3270917510.py, line 2)",
     "output_type": "error",
     "traceback": [
      "\u001b[0;36m  Cell \u001b[0;32mIn [33], line 2\u001b[0;36m\u001b[0m\n\u001b[0;31m    Image.from_file(\"C:\\Users\\Ylin\\OneDrive\\Pictures\\p2.jpg\")\u001b[0m\n\u001b[0m                                                            ^\u001b[0m\n\u001b[0;31mSyntaxError\u001b[0m\u001b[0;31m:\u001b[0m (unicode error) 'unicodeescape' codec can't decode bytes in position 2-3: truncated \\UXXXXXXXX escape\n"
     ]
    }
   ],
   "source": [
    "from ipywidgets import Image\n",
    "Image.from_file(\"C:\\Users\\Ylin\\OneDrive\\Pictures\\p2.jpg\")"
   ]
  },
  {
   "cell_type": "markdown",
   "metadata": {},
   "source": [
    "- _Choose Another Device:_ [Device Selector](#Device-Selector)"
   ]
  },
  {
   "cell_type": "code",
   "execution_count": null,
   "metadata": {},
   "outputs": [],
   "source": []
  }
 ],
 "metadata": {
  "kernelspec": {
   "display_name": "Python 3 (Intel® oneAPI 2022.3)",
   "language": "python",
   "name": "c009-intel_distribution_of_python_3_oneapi-beta05-python"
  },
  "language_info": {
   "codemirror_mode": {
    "name": "ipython",
    "version": 3
   },
   "file_extension": ".py",
   "mimetype": "text/x-python",
   "name": "python",
   "nbconvert_exporter": "python",
   "pygments_lexer": "ipython3",
   "version": "3.9.13"
  },
  "toc": {
   "base_numbering": 1,
   "nav_menu": {},
   "number_sections": true,
   "sideBar": true,
   "skip_h1_title": false,
   "title_cell": "Table of Contents",
   "title_sidebar": "Contents",
   "toc_cell": false,
   "toc_position": {},
   "toc_section_display": true,
   "toc_window_display": false
  }
 },
 "nbformat": 4,
 "nbformat_minor": 4
}
